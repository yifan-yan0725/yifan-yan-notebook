{
  "nbformat": 4,
  "nbformat_minor": 0,
  "metadata": {
    "colab": {
      "provenance": [],
      "include_colab_link": true
    },
    "kernelspec": {
      "name": "python3",
      "display_name": "Python 3"
    },
    "language_info": {
      "name": "python"
    }
  },
  "cells": [
    {
      "cell_type": "markdown",
      "metadata": {
        "id": "view-in-github",
        "colab_type": "text"
      },
      "source": [
        "<a href=\"https://colab.research.google.com/github/yifan-yan0725/yifan-yan-notebook/blob/main/2023_S2_Flu_Tracker_%5Byifan_yan%5D_%5B21673137%5D.ipynb\" target=\"_parent\"><img src=\"https://colab.research.google.com/assets/colab-badge.svg\" alt=\"Open In Colab\"/></a>"
      ]
    },
    {
      "cell_type": "markdown",
      "source": [
        "# Formative Programming Assignment\n",
        "\n",
        "**Due: Sunday 3rd September**\n",
        "\n",
        "## **Problem Statement:**\n",
        "During the flu season, it is crucial for healthcare organisations to accurately monitor and analyse the number of infected patients to effectively respond to potential outbreaks. To streamline this process, a software solution needs to be designed and developed that allows users to input daily reported infection numbers over the course of a week. The program should then provide key statistical insights such as the total, average, smallest, and largest of these values and a graphical representation to visualise the trend of infection counts throughout the week.\n"
      ],
      "metadata": {
        "id": "WhNEeF5C8oAn"
      }
    },
    {
      "cell_type": "markdown",
      "source": [
        "**Before you start:**\n",
        "\n",
        "* setup the **new private repo** and **invite isys5002.itp@gmail.com** as a **collaborator** to your private GitHub repository.\n",
        "* **Download** the attached .ipynb notebook and **rename** it to ***2023_S1_Flu_Tracker_[name]_[studentID]***\n",
        "* Save the renamed notebook to your private GitHub repository.\n",
        "* Copy and paste the **repository/notebook link** in the **ANSWER textbox on Blackboard**."
      ],
      "metadata": {
        "id": "xgxJMH6h_UTi"
      }
    },
    {
      "cell_type": "markdown",
      "source": [
        "**Task:**\n",
        "\n",
        "Following the **six-steps problem-solving methodology**, **design and implement** the solution following good programming practices, such as modularising code, validating inputs, handling errors properly, and adhering to the [PEP8](https://peps.python.org/pep-0008/) style guide.\n",
        "\n",
        "Adhering to PEP8 standards:\n",
        "* programming style naming conventions used in the PEP8, which include:\n",
        "  * Meaningful names for projects, variables, methods, and controls.\n",
        "  * Correct capitalisation of variables and methods\n",
        "* Appropriate use of comments\n",
        "* Reference any relevant forums, websites, and videos that you used.\n",
        "* Use of space and indentation to the program is easy to read."
      ],
      "metadata": {
        "id": "Vl1HBpkh_C5b"
      }
    },
    {
      "cell_type": "markdown",
      "source": [
        "# **ANSWER**"
      ],
      "metadata": {
        "id": "fe3nQ5p8_Hdc"
      }
    },
    {
      "cell_type": "code",
      "execution_count": null,
      "metadata": {
        "id": "utw8tRK98iiW"
      },
      "outputs": [],
      "source": [
        "def patients_input():\n",
        "    date_list = []\n",
        "    numbers_list = []\n",
        "    for x in range(7):\n",
        "        date = int(input(\"Please enter the date: \"))\n",
        "        numbers = int(input(\"Please enter the numbers of patients: \"))\n",
        "        date_list.append(date)\n",
        "        numbers_list.append(numbers)\n",
        "    return date_list, numbers_list"
      ]
    },
    {
      "cell_type": "code",
      "source": [
        "def calculate(numbers):\n",
        " total = sum(numbers)\n",
        " average = sum(numbers) / 7\n",
        " the_smallest = min(numbers)\n",
        " the_largest = max(numbers)\n",
        " print(f\"total: {total}, averag: {average}, the smallest: {the_smallest}, the larget: {the_largest}\")"
      ],
      "metadata": {
        "id": "B-XY7plm-w4S"
      },
      "execution_count": null,
      "outputs": []
    },
    {
      "cell_type": "code",
      "source": [
        "flag = True\n",
        "while flag:\n",
        "    try:\n",
        "      date, numbers = patients_input()\n",
        "      flag = False\n",
        "    except:\n",
        "        print(\"You have enter a wrong value \\nIt is Inviail error\")"
      ],
      "metadata": {
        "colab": {
          "base_uri": "https://localhost:8080/"
        },
        "id": "kvI4m_er-7nk",
        "outputId": "4ca6dc7a-ff68-42d9-d134-ca0a90a291c5"
      },
      "execution_count": null,
      "outputs": [
        {
          "name": "stdout",
          "output_type": "stream",
          "text": [
            "Please enter the date: 1\n",
            "Please enter the numbers of patients: 20\n",
            "Please enter the date: 2\n",
            "Please enter the numbers of patients: 30\n",
            "Please enter the date: 3\n",
            "Please enter the numbers of patients: 40\n",
            "Please enter the date: 4\n",
            "Please enter the numbers of patients: 50\n",
            "Please enter the date: 5\n",
            "Please enter the numbers of patients: 60\n",
            "Please enter the date: 6\n",
            "Please enter the numbers of patients: 70\n",
            "Please enter the date: 7\n",
            "Please enter the numbers of patients: 80\n"
          ]
        }
      ]
    },
    {
      "cell_type": "code",
      "source": [
        "value = calculate(numbers)"
      ],
      "metadata": {
        "colab": {
          "base_uri": "https://localhost:8080/"
        },
        "id": "HabKrtBR--zh",
        "outputId": "4b745259-564e-4176-da6e-b3ebffe3ef2f"
      },
      "execution_count": null,
      "outputs": [
        {
          "output_type": "stream",
          "name": "stdout",
          "text": [
            "total: 350, averag: 50.0, the smallest: 20, the larget: 80\n"
          ]
        }
      ]
    },
    {
      "cell_type": "code",
      "source": [
        "from matplotlib import pyplot as plt\n",
        "plt.plot(date, numbers)\n"
      ],
      "metadata": {
        "colab": {
          "base_uri": "https://localhost:8080/",
          "height": 447
        },
        "id": "auPyDlJt_CIs",
        "outputId": "82c6dfaf-5d44-446b-a68d-47daaa1ded21"
      },
      "execution_count": null,
      "outputs": [
        {
          "output_type": "execute_result",
          "data": {
            "text/plain": [
              "[<matplotlib.lines.Line2D at 0x781e0a470ca0>]"
            ]
          },
          "metadata": {},
          "execution_count": 5
        },
        {
          "output_type": "display_data",
          "data": {
            "text/plain": [
              "<Figure size 640x480 with 1 Axes>"
            ],
            "image/png": "[encoded data removed]"
          },
          "metadata": {}
        }
      ]
    }
  ]
}